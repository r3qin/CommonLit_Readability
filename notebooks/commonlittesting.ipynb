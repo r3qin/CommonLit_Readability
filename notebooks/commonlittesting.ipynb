{
 "cells": [
  {
   "cell_type": "markdown",
   "id": "orange-citizen",
   "metadata": {
    "papermill": {
     "duration": 0.006447,
     "end_time": "2021-06-24T22:14:12.645787",
     "exception": false,
     "start_time": "2021-06-24T22:14:12.639340",
     "status": "completed"
    },
    "tags": []
   },
   "source": [
    "# Testing"
   ]
  },
  {
   "cell_type": "code",
   "execution_count": 1,
   "id": "resident-newton",
   "metadata": {
    "execution": {
     "iopub.execute_input": "2021-06-24T22:14:12.668278Z",
     "iopub.status.busy": "2021-06-24T22:14:12.667639Z",
     "iopub.status.idle": "2021-06-24T22:14:20.194057Z",
     "shell.execute_reply": "2021-06-24T22:14:20.193077Z",
     "shell.execute_reply.started": "2021-06-24T22:12:33.431940Z"
    },
    "papermill": {
     "duration": 7.542819,
     "end_time": "2021-06-24T22:14:20.194218",
     "exception": false,
     "start_time": "2021-06-24T22:14:12.651399",
     "status": "completed"
    },
    "tags": []
   },
   "outputs": [],
   "source": [
    "import numpy as np\n",
    "import pandas as pd\n",
    "import matplotlib.pyplot as plt\n",
    "import re\n",
    "import math\n",
    "\n",
    "from collections import Counter\n",
    "from tqdm.notebook import tqdm\n",
    "\n",
    "import torch\n",
    "import torch.nn as nn\n",
    "import torch.nn.functional as F\n",
    "from sklearn.model_selection import KFold\n",
    "from torch.utils.data import TensorDataset, DataLoader\n",
    "\n",
    "from transformers import RobertaModel, RobertaTokenizer, BertTokenizer, BertModel, AdamW"
   ]
  },
  {
   "cell_type": "code",
   "execution_count": 2,
   "id": "adolescent-article",
   "metadata": {
    "execution": {
     "iopub.execute_input": "2021-06-24T22:14:20.211282Z",
     "iopub.status.busy": "2021-06-24T22:14:20.210742Z",
     "iopub.status.idle": "2021-06-24T22:14:20.243267Z",
     "shell.execute_reply": "2021-06-24T22:14:20.242835Z",
     "shell.execute_reply.started": "2021-06-24T22:12:40.699071Z"
    },
    "papermill": {
     "duration": 0.043641,
     "end_time": "2021-06-24T22:14:20.243389",
     "exception": false,
     "start_time": "2021-06-24T22:14:20.199748",
     "status": "completed"
    },
    "tags": []
   },
   "outputs": [
    {
     "data": {
      "text/html": [
       "<div>\n",
       "<style scoped>\n",
       "    .dataframe tbody tr th:only-of-type {\n",
       "        vertical-align: middle;\n",
       "    }\n",
       "\n",
       "    .dataframe tbody tr th {\n",
       "        vertical-align: top;\n",
       "    }\n",
       "\n",
       "    .dataframe thead th {\n",
       "        text-align: right;\n",
       "    }\n",
       "</style>\n",
       "<table border=\"1\" class=\"dataframe\">\n",
       "  <thead>\n",
       "    <tr style=\"text-align: right;\">\n",
       "      <th></th>\n",
       "      <th>id</th>\n",
       "      <th>excerpt</th>\n",
       "    </tr>\n",
       "  </thead>\n",
       "  <tbody>\n",
       "    <tr>\n",
       "      <th>0</th>\n",
       "      <td>c0f722661</td>\n",
       "      <td>My hope lay in Jack's promise that he would ke...</td>\n",
       "    </tr>\n",
       "    <tr>\n",
       "      <th>1</th>\n",
       "      <td>f0953f0a5</td>\n",
       "      <td>Dotty continued to go to Mrs. Gray's every nig...</td>\n",
       "    </tr>\n",
       "    <tr>\n",
       "      <th>2</th>\n",
       "      <td>0df072751</td>\n",
       "      <td>It was a bright and cheerful scene that greete...</td>\n",
       "    </tr>\n",
       "    <tr>\n",
       "      <th>3</th>\n",
       "      <td>04caf4e0c</td>\n",
       "      <td>Cell division is the process by which a parent...</td>\n",
       "    </tr>\n",
       "    <tr>\n",
       "      <th>4</th>\n",
       "      <td>0e63f8bea</td>\n",
       "      <td>Debugging is the process of finding and resolv...</td>\n",
       "    </tr>\n",
       "  </tbody>\n",
       "</table>\n",
       "</div>"
      ],
      "text/plain": [
       "          id                                            excerpt\n",
       "0  c0f722661  My hope lay in Jack's promise that he would ke...\n",
       "1  f0953f0a5  Dotty continued to go to Mrs. Gray's every nig...\n",
       "2  0df072751  It was a bright and cheerful scene that greete...\n",
       "3  04caf4e0c  Cell division is the process by which a parent...\n",
       "4  0e63f8bea  Debugging is the process of finding and resolv..."
      ]
     },
     "execution_count": 2,
     "metadata": {},
     "output_type": "execute_result"
    }
   ],
   "source": [
    "test = pd.read_csv('../input/commonlitreadabilityprize/test.csv')\n",
    "test = test[['id', 'excerpt']]\n",
    "test.head()"
   ]
  },
  {
   "cell_type": "code",
   "execution_count": 3,
   "id": "simplified-soundtrack",
   "metadata": {
    "execution": {
     "iopub.execute_input": "2021-06-24T22:14:20.261084Z",
     "iopub.status.busy": "2021-06-24T22:14:20.259858Z",
     "iopub.status.idle": "2021-06-24T22:14:20.262655Z",
     "shell.execute_reply": "2021-06-24T22:14:20.262183Z",
     "shell.execute_reply.started": "2021-06-24T22:12:40.731040Z"
    },
    "papermill": {
     "duration": 0.013335,
     "end_time": "2021-06-24T22:14:20.262753",
     "exception": false,
     "start_time": "2021-06-24T22:14:20.249418",
     "status": "completed"
    },
    "tags": []
   },
   "outputs": [],
   "source": [
    "test['excerpt'] = test.excerpt.apply(lambda x: re.sub(r'[\\n]', ' ', x))\n",
    "X_test = test.excerpt.to_numpy()"
   ]
  },
  {
   "cell_type": "code",
   "execution_count": 4,
   "id": "sitting-april",
   "metadata": {
    "execution": {
     "iopub.execute_input": "2021-06-24T22:14:20.280883Z",
     "iopub.status.busy": "2021-06-24T22:14:20.280183Z",
     "iopub.status.idle": "2021-06-24T22:14:20.282900Z",
     "shell.execute_reply": "2021-06-24T22:14:20.282494Z",
     "shell.execute_reply.started": "2021-06-24T22:12:42.527163Z"
    },
    "papermill": {
     "duration": 0.014634,
     "end_time": "2021-06-24T22:14:20.283024",
     "exception": false,
     "start_time": "2021-06-24T22:14:20.268390",
     "status": "completed"
    },
    "tags": []
   },
   "outputs": [],
   "source": [
    "class MyModel(nn.Module):\n",
    "\n",
    "    def __init__(self):\n",
    "        super().__init__()\n",
    "        \n",
    "        self.bert = torch.load(\"../input/roberta/bt\")\n",
    "        self.fc1 = nn.Linear(768, 512)\n",
    "        self.fc2 = nn.Linear(512, 128)\n",
    "        self.fc3 = nn.Linear(128, 1)\n",
    "        self.do = nn.Dropout(0.1)\n",
    "\n",
    "    def forward(self, input_ids, attention_mask,token_type_ids):\n",
    "        x = self.bert(input_ids=input_ids, attention_mask=attention_mask, token_type_ids=token_type_ids)\n",
    "        x = torch.tanh(self.fc1(x.pooler_output))\n",
    "        x = self.do(x)\n",
    "        x = torch.tanh(self.fc2(x))\n",
    "        x = self.do(x)\n",
    "        x = self.fc3(x)\n",
    "        return x"
   ]
  },
  {
   "cell_type": "code",
   "execution_count": 5,
   "id": "logical-conversion",
   "metadata": {
    "execution": {
     "iopub.execute_input": "2021-06-24T22:14:20.301600Z",
     "iopub.status.busy": "2021-06-24T22:14:20.301098Z",
     "iopub.status.idle": "2021-06-24T22:14:57.758756Z",
     "shell.execute_reply": "2021-06-24T22:14:57.759386Z",
     "shell.execute_reply.started": "2021-06-24T22:12:50.044495Z"
    },
    "papermill": {
     "duration": 37.470833,
     "end_time": "2021-06-24T22:14:57.759561",
     "exception": false,
     "start_time": "2021-06-24T22:14:20.288728",
     "status": "completed"
    },
    "tags": []
   },
   "outputs": [
    {
     "data": {
      "text/html": [
       "<div>\n",
       "<style scoped>\n",
       "    .dataframe tbody tr th:only-of-type {\n",
       "        vertical-align: middle;\n",
       "    }\n",
       "\n",
       "    .dataframe tbody tr th {\n",
       "        vertical-align: top;\n",
       "    }\n",
       "\n",
       "    .dataframe thead th {\n",
       "        text-align: right;\n",
       "    }\n",
       "</style>\n",
       "<table border=\"1\" class=\"dataframe\">\n",
       "  <thead>\n",
       "    <tr style=\"text-align: right;\">\n",
       "      <th></th>\n",
       "      <th>id</th>\n",
       "      <th>target</th>\n",
       "    </tr>\n",
       "  </thead>\n",
       "  <tbody>\n",
       "    <tr>\n",
       "      <th>0</th>\n",
       "      <td>c0f722661</td>\n",
       "      <td>-0.348936</td>\n",
       "    </tr>\n",
       "    <tr>\n",
       "      <th>1</th>\n",
       "      <td>f0953f0a5</td>\n",
       "      <td>-0.662280</td>\n",
       "    </tr>\n",
       "    <tr>\n",
       "      <th>2</th>\n",
       "      <td>0df072751</td>\n",
       "      <td>-0.483310</td>\n",
       "    </tr>\n",
       "    <tr>\n",
       "      <th>3</th>\n",
       "      <td>04caf4e0c</td>\n",
       "      <td>-2.568693</td>\n",
       "    </tr>\n",
       "    <tr>\n",
       "      <th>4</th>\n",
       "      <td>0e63f8bea</td>\n",
       "      <td>-1.785356</td>\n",
       "    </tr>\n",
       "    <tr>\n",
       "      <th>5</th>\n",
       "      <td>12537fe78</td>\n",
       "      <td>-1.268913</td>\n",
       "    </tr>\n",
       "    <tr>\n",
       "      <th>6</th>\n",
       "      <td>965e592c0</td>\n",
       "      <td>0.078832</td>\n",
       "    </tr>\n",
       "  </tbody>\n",
       "</table>\n",
       "</div>"
      ],
      "text/plain": [
       "          id    target\n",
       "0  c0f722661 -0.348936\n",
       "1  f0953f0a5 -0.662280\n",
       "2  0df072751 -0.483310\n",
       "3  04caf4e0c -2.568693\n",
       "4  0e63f8bea -1.785356\n",
       "5  12537fe78 -1.268913\n",
       "6  965e592c0  0.078832"
      ]
     },
     "execution_count": 5,
     "metadata": {},
     "output_type": "execute_result"
    }
   ],
   "source": [
    "tokenizer = torch.load(\"../input/roberta/tokenizer\")\n",
    "device = torch.device('cuda') if torch.cuda.is_available() else torch.device('cpu')\n",
    "\n",
    "num_folds = 5\n",
    "MAX_SEQ_LEN = 256\n",
    "preds_folds = []\n",
    "for i in range(num_folds):\n",
    "    model = MyModel()\n",
    "    model.to(device)\n",
    "    model_path = \"../input/mytrainedmodels/model_%s\" % i\n",
    "    model.load_state_dict(torch.load(model_path))\n",
    "    \n",
    "    preds = []\n",
    "    for i in test.excerpt:\n",
    "        test_token = tokenizer([i], padding='max_length', truncation=True, max_length=MAX_SEQ_LEN, return_token_type_ids=True, return_tensors=\"pt\")\n",
    "        input_ids = test_token['input_ids'].to(device)\n",
    "        attention_mask = test_token['attention_mask'].to(device)\n",
    "        token_type_ids = test_token['token_type_ids'].to(device)\n",
    "        test_pred = model(input_ids=input_ids, attention_mask=attention_mask, token_type_ids=token_type_ids)\n",
    "        test_pred = test_pred.cpu().detach().numpy().astype(\"float\").item()\n",
    "        preds.append(test_pred)\n",
    "    \n",
    "    preds_folds.append(preds)\n",
    "    \n",
    "tgt = np.mean(np.array(preds_folds), axis=0)\n",
    "ans = pd.DataFrame({'id': test.id, 'target': tgt})\n",
    "ans"
   ]
  },
  {
   "cell_type": "code",
   "execution_count": 6,
   "id": "national-cleaning",
   "metadata": {
    "execution": {
     "iopub.execute_input": "2021-06-24T22:14:57.779372Z",
     "iopub.status.busy": "2021-06-24T22:14:57.778379Z",
     "iopub.status.idle": "2021-06-24T22:14:57.902005Z",
     "shell.execute_reply": "2021-06-24T22:14:57.902429Z",
     "shell.execute_reply.started": "2021-06-20T00:58:55.234033Z"
    },
    "papermill": {
     "duration": 0.13501,
     "end_time": "2021-06-24T22:14:57.902703",
     "exception": false,
     "start_time": "2021-06-24T22:14:57.767693",
     "status": "completed"
    },
    "tags": []
   },
   "outputs": [],
   "source": [
    "ans.to_csv('submission.csv', index=False)"
   ]
  }
 ],
 "metadata": {
  "kernelspec": {
   "display_name": "Python 3",
   "language": "python",
   "name": "python3"
  },
  "language_info": {
   "codemirror_mode": {
    "name": "ipython",
    "version": 3
   },
   "file_extension": ".py",
   "mimetype": "text/x-python",
   "name": "python",
   "nbconvert_exporter": "python",
   "pygments_lexer": "ipython3",
   "version": "3.7.10"
  },
  "papermill": {
   "default_parameters": {},
   "duration": 54.70829,
   "end_time": "2021-06-24T22:15:00.451461",
   "environment_variables": {},
   "exception": null,
   "input_path": "__notebook__.ipynb",
   "output_path": "__notebook__.ipynb",
   "parameters": {},
   "start_time": "2021-06-24T22:14:05.743171",
   "version": "2.3.3"
  }
 },
 "nbformat": 4,
 "nbformat_minor": 5
}
